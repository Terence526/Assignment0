{
  "nbformat": 4,
  "nbformat_minor": 0,
  "metadata": {
    "colab": {
      "provenance": [],
      "collapsed_sections": [],
      "include_colab_link": true
    },
    "kernelspec": {
      "name": "python3",
      "display_name": "Python 3"
    },
    "language_info": {
      "name": "python"
    }
  },
  "cells": [
    {
      "cell_type": "markdown",
      "metadata": {
        "id": "view-in-github",
        "colab_type": "text"
      },
      "source": [
        "<a href=\"https://colab.research.google.com/github/Terence526/Assignment0/blob/main/Assignment1.ipynb\" target=\"_parent\"><img src=\"https://colab.research.google.com/assets/colab-badge.svg\" alt=\"Open In Colab\"/></a>"
      ]
    },
    {
      "cell_type": "markdown",
      "metadata": {
        "id": "ahbTW1_f4AI5"
      },
      "source": [
        "#[Introduction to Python for Science and Engineering](https://www.taylorfrancis.com/books/mono/10.1201/9780429506413/introduction-python-science-engineering-david-pine)\n",
        "\n",
        "###The following exercises were reproduced from David Pine's Python Manual: [chapter 2: Launching Python](https://www.taylorfrancis.com/chapters/mono/10.1201/9780429506413-2/launching-python-david-pine) and adapted and extended by Paul McNulty and Marc Gershow\n",
        "[previous version of manual, accessible without library access](https://physics.nyu.edu/pine/pymanual/html/pymanMaster.html)\n",
        "\n",
        "[previous version of chapter 2](https://physics.nyu.edu/pine/pymanual/html/chap2/chap2_basics.html) "
      ]
    },
    {
      "cell_type": "code",
      "metadata": {
        "id": "0vmwmUzsjY6j"
      },
      "source": [
        "##RUN THIS CODE BLOCK FIRST - it brings in functions like sin, cos, log, ... \n",
        "#in the future, we'll do things slightly differently to make your code more robust and portable...\n",
        "from numpy import *"
      ],
      "execution_count": null,
      "outputs": []
    },
    {
      "cell_type": "markdown",
      "metadata": {
        "id": "AY3ov0Ni4yTV"
      },
      "source": [
        "##2.12.1\n",
        "\n",
        "A ball is thrown vertically up in the air from a height $h_0$ above the ground at an initial velocity $v_0$. Its subsequent height $h$ and velocity $v$ are given by the equations\n",
        "\n",
        "$h = h_0 + v_0 t - \\frac{1}{2}gt^2$\n",
        "\n",
        "$v = v_0 - gt$\n",
        "\n",
        "where $g=9.8$ is the acceleration due to gravity in m/s$^2$. Write code that finds the height $h$ and velocity $v$ at a time $t$ after the ball is thrown. Start by setting $h_0=1.2$ (meters) and $v_0 = 5.4$ (m/s) and have your code print out the values of height and velocity (see _[Note about printing](https://physics.nyu.edu/pine/pymanual/html/chap2/chap2_basics.html#printnote)_). First print the height and velocity after 0.5 seconds. Then add more code to find them after 2.0 seconds.\n",
        "\n",
        "When you execute the code block you write below, there should be 4 numbers output, each on its own line. If you want to be fancy, you could make the script write something like\n",
        "\n",
        "h(0.5) = 2.7\n",
        "\n",
        "but\n",
        "\n",
        "2.7 \n",
        "\n",
        "would also be fine, as would\n",
        "\n",
        "2.675000000 \n",
        "\n",
        "In other words, we don't care how your answer is formatted (for now). You will probably find it's easiest to cut and paste a large portion of your answer to the t = 0.5 section to calculate the t = 2.0 answer. *What code do you have to recopy and what stays the same?* This is OK for now, but at the end of the assingment you'll learn a better way to make your code reusable"
      ]
    },
    {
      "cell_type": "code",
      "metadata": {
        "id": "aDl-k0Fk2eb4",
        "outputId": "5cc7b9f7-6f17-4b44-d96e-49c9f34b4303",
        "colab": {
          "base_uri": "https://localhost:8080/"
        }
      },
      "source": [
        "##USE THIS CODE BLOCK TO COMPLETE EXERCISE 2.12.1##\n",
        "h0=1.2 \n",
        "v0=5.4 \n",
        "g=9.8 \n",
        "t1=0.5 \n",
        "t2=2\n",
        "h1=h0+v0*t1-1/2*g*t1**2\n",
        "v1=v0-g*t1\n",
        "h2=h0+v0*t2-1/2*g*t2**2\n",
        "v2=v0-g*t2\n",
        "print(f'The height of the ball after 0.5seconds is {h1:.3f} meters')\n",
        "print(f'The velocity of the ball after 0.5seconds is {v1:.1f} m/s')\n",
        "print(f'The height of ball after 2.0seconds is {h2:.3f} meters')\n",
        "print(f'The velocity of the ball after 2.0seconds is {v2:.1f} m/s')"
      ],
      "execution_count": null,
      "outputs": [
        {
          "output_type": "stream",
          "name": "stdout",
          "text": [
            "The height of the ball after 0.5seconds is 2.675 meters\n",
            "The velocity of the ball after 0.5seconds is 0.5 m/s\n",
            "The height of ball after 2.0seconds is -7.600 meters\n",
            "The velocity of the ball after 2.0seconds is -14.2 m/s\n"
          ]
        }
      ]
    },
    {
      "cell_type": "markdown",
      "metadata": {
        "id": "_2EqELbY8b7X"
      },
      "source": [
        "##2.12.2\n",
        "\n",
        "Write a script that defines the variables $V_0 = 10$, $a=2.5$, and $z=4\\frac{1}{3}$, and then evaluates the expression\n",
        "\n",
        "$V = V_0 \\left(1-\\frac{z}{\\sqrt{a^2 + z^2}}\\right)$\n",
        "\n",
        "Then find $V$ for $z=8\\frac{2}{3}$ and print it out (see _[Note about printing](https://physics.nyu.edu/pine/pymanual/html/chap2/chap2_basics.html#printnote)_). Then find $V$ for $z=13$ by changing the value of $z$ in your script.\n",
        "\n",
        "Again, you don't have to worry about how your answer is formatted"
      ]
    },
    {
      "cell_type": "code",
      "metadata": {
        "id": "Ogchuuc19T0K",
        "outputId": "be376ae3-053d-4123-ed11-2c45afb3760d",
        "colab": {
          "base_uri": "https://localhost:8080/"
        }
      },
      "source": [
        "from numpy.lib import math\n",
        "##USE THIS CODE BLOCK TO COMPLETE EXERCISE 2.12.2##\n",
        "v0=10\n",
        "a=2.5\n",
        "z=13/3\n",
        "z1=8+2/3\n",
        "z2=13\n",
        "v1=v0*(1-z1/sqrt(a**2+z1**2))\n",
        "v2=v0*(1-z2/sqrt(a**2+z2**2))\n",
        "print(f'V for z=8+2/3 is {v1:.5f}')\n",
        "print(f'V for z=13 is {v2:.5f}')"
      ],
      "execution_count": null,
      "outputs": [
        {
          "output_type": "stream",
          "name": "stdout",
          "text": [
            "V for z=8+2/3 is 0.39176\n",
            "V for z=13 is 0.17994\n"
          ]
        }
      ]
    },
    {
      "cell_type": "markdown",
      "metadata": {
        "id": "xAEZpywo9aCz"
      },
      "source": [
        "##2.12.3\n",
        "\n",
        "In the code block below, write code that calculates the following expressions:\n",
        "\n",
        "1. $a = \\frac{2 + e^{2.8}}{\\sqrt{13}-2}$\n",
        "1. $b = \\frac{1 - \\left(1 + \\ln{2}\\right)^{-3.5}}{1+\\sqrt{5}}$\n",
        "1. $c = \\sin{\\left(\\frac{2-\\sqrt{2}}{2+\\sqrt{2}}\\right)}$\n",
        "\n",
        "After running this code block, typing $a$, $b$, or $c$ in the next code block, followed by shift+return should yield the value of the expressions in (a), (b), or (c), respectively."
      ]
    },
    {
      "cell_type": "code",
      "metadata": {
        "id": "Q9kTXVhI-xwB"
      },
      "source": [
        "##USE THIS CODE BLOCK TO COMPLETE EXERCISE 2.12.3##\n",
        "a=(2+e**2.8)/(sqrt(13)-2)\n",
        "b=(1-(1+log(2))**(-3.5))/(1+sqrt(5))\n",
        "c=sin((2-sqrt(2))/(2+sqrt(2)))"
      ],
      "execution_count": null,
      "outputs": []
    },
    {
      "cell_type": "code",
      "metadata": {
        "id": "k1dF3p4ylItJ",
        "colab": {
          "base_uri": "https://localhost:8080/"
        },
        "outputId": "acec9566-004c-4632-9076-2bb8caa59cd1"
      },
      "source": [
        "##USE THIS CODE BLOCK TO TEST YOUR ANSWER##\n",
        "c"
      ],
      "execution_count": null,
      "outputs": [
        {
          "output_type": "execute_result",
          "data": {
            "text/plain": [
              "0.17073234104506005"
            ]
          },
          "metadata": {},
          "execution_count": 25
        }
      ]
    },
    {
      "cell_type": "markdown",
      "metadata": {
        "id": "g4z-30W2-7ql"
      },
      "source": [
        "##2.12.4\n",
        "\n",
        "A quadratic equation with the general form\n",
        "\n",
        "$ax^2 + bx + c = 0$\n",
        "\n",
        "has two solutions given by the quadratic formula\n",
        "\n",
        "$x = \\frac{-b \\pm \\sqrt{b^2 - 4ac}}{2a}$.\n",
        "\n",
        "1. Given $a$, $b$, and $c$ as inputs, write code that gives the numerical values of the two solutions. Write the constants $a$, $b$, and $c$ as floats, and show that your script gives the correct solutions for a few test cases when the solutions are real numbers, that is, when the discriminant $b^2-4ac\\geq 0$. Use the `print` function in your script, discussed at the end of Section 2.8.1 _[Scripting Example 1](https://physics.nyu.edu/pine/pymanual/html/chap2/chap2_basics.html#chap2-scriptexmp1)_, to print out your two solutions.\n",
        "1. Written this way, however, your script gives an error message when the solutions are complex. For example, see what happens when $a=1$, $b=2$, and $c=3$. You can fix this using statements in your script like $a = a+0j$ after setting $a$ to some float value. Thus, you can make the script work for any set of real inputs for $a$, $b$, and $c$. Again, use the `print` function to print out your two solutions."
      ]
    },
    {
      "cell_type": "code",
      "metadata": {
        "id": "r-5EIrnNCZGm",
        "colab": {
          "base_uri": "https://localhost:8080/"
        },
        "outputId": "7d836a65-b8ba-445a-d794-871ecd677386"
      },
      "source": [
        "##USE THIS CODE BLOCK TO COMPLETE EXERCISE 2.12.4##\n",
        "a = 1\n",
        "b = 2\n",
        "c = 3\n",
        "a = a+0j\n",
        "b = b+0j\n",
        "c = c+0j\n",
        "##write your code to print the results\n",
        "x1 = (-b + sqrt(b**2 - 4*a*c))/(2*a)\n",
        "x2 = (-b - sqrt(b**2 - 4*a*c))/(2*a)\n",
        "print(x1)\n",
        "print(x2)"
      ],
      "execution_count": null,
      "outputs": [
        {
          "output_type": "stream",
          "name": "stdout",
          "text": [
            "(-1+1.4142135623730951j)\n",
            "(-1-1.4142135623730951j)\n"
          ]
        }
      ]
    },
    {
      "cell_type": "code",
      "source": [],
      "metadata": {
        "id": "ATPeaoiii_NB"
      },
      "execution_count": null,
      "outputs": []
    },
    {
      "cell_type": "markdown",
      "metadata": {
        "id": "GAG8o-bFl3z5"
      },
      "source": [
        "#LOOKING AHEAD: FUNCTIONS\n",
        "\n",
        "It sure is a pain having to cut and paste or retype the same code over and over again, and it makes it really easy to make mistakes; what if you didn't type in a value of a in 2.12.4? The computer would happily use the value you calculated in 2.12.3 earlier.\n",
        "\n",
        "**Functions** make your code reusable! The Pine manual introduces functions very late ([in chapter 7](https://www.taylorfrancis.com/chapters/mono/10.1201/9780429506413-7/functions-david-pine)) compared to most books. \n",
        "\n",
        "Let's look at redoing 2.12.4 using a function\n",
        "\n"
      ]
    },
    {
      "cell_type": "code",
      "metadata": {
        "colab": {
          "base_uri": "https://localhost:8080/"
        },
        "id": "ENAUMSDRlVSh",
        "outputId": "5bcf68a9-a78b-4785-8d70-ef0aeebb2c76"
      },
      "source": [
        "def printQuadraticSolution(a,b,c):\n",
        "  a = a+0j #make the number complex to allow for complex solutions\n",
        "  x1 = (-b + sqrt(b**2 - 4*a*c))/(2*a)\n",
        "  x2 = (-b - sqrt(b**2 - 4*a*c))/(2*a)\n",
        "  print(\"The solutions are {} and {}\".format(x1,x2))\n",
        "\n",
        "printQuadraticSolution(2,10,3)\n",
        "printQuadraticSolution(1,8,1)"
      ],
      "execution_count": null,
      "outputs": [
        {
          "output_type": "stream",
          "name": "stdout",
          "text": [
            "The solutions are (-0.320550528229663+0j) and (-4.6794494717703365+0j)\n",
            "The solutions are (-0.12701665379258298+0j) and (-7.872983346207417+0j)\n"
          ]
        }
      ]
    },
    {
      "cell_type": "markdown",
      "metadata": {
        "id": "7YwAtxlSsltz"
      },
      "source": [
        "The function definition looks like this\n",
        "  1. the keyword def (for define) that tells you you're about to write a function\n",
        "  2. the name of the function ( \"printQuadraticSolution\" )\n",
        "  3. the arguments to the function (a, b, c) - what you will \"pass\" to the function to give it the information it needs to know to run\n",
        "  4. a colon : which has to be there as the last part of the first line\n",
        "  5. the rest of the code, which is all **indented**. Python uses indentation to say what is part of the function and what isn't\n",
        "\n",
        "  Now please fix the line \"x2 = ....\" above to calculate the other solution, then test it out with a few new values below"
      ]
    },
    {
      "cell_type": "code",
      "metadata": {
        "id": "nsS-yLb6sk89",
        "colab": {
          "base_uri": "https://localhost:8080/"
        },
        "outputId": "b4ce2dbb-47c6-4bdf-9059-ede30ffae534"
      },
      "source": [
        "printQuadraticSolution(1,5,3)\n",
        "printQuadraticSolution(6,15,5)"
      ],
      "execution_count": null,
      "outputs": [
        {
          "output_type": "stream",
          "name": "stdout",
          "text": [
            "The solutions are (-0.6972243622680054+0j) and (-4.302775637731995+0j)\n",
            "The solutions are (-0.3960874361700335+0j) and (-2.103912563829966+0j)\n"
          ]
        }
      ]
    },
    {
      "cell_type": "markdown",
      "metadata": {
        "id": "Wy1Kh9KTMTfI"
      },
      "source": [
        "##Functions can return results\n",
        "\n",
        "When you type y = sin(x), you are calling a function ( sin ). You pass a value to the function ( x ) and you get something back, the sine of x, in return. When a function **returns** a value, you use the keyword **return** at the **end** of the function to say what it is\n",
        "\n",
        "In Python a function can return multiple values.\n",
        "\n",
        "For instance, instead of printing out the two solutions to the quadratic equation, we could write a function that **returns** them to us to use later"
      ]
    },
    {
      "cell_type": "code",
      "metadata": {
        "colab": {
          "base_uri": "https://localhost:8080/"
        },
        "id": "c4x_uiYdNczN",
        "outputId": "82c4149a-0f21-4aaa-c508-356a07bdb4d8"
      },
      "source": [
        "def getQuadraticSolution(a,b,c):\n",
        "  a = a+0j#make the number complex to allow for complex solutions\n",
        "  x1 = (-b + sqrt(b**2 - 4*a*c))/(2*a)\n",
        "  x2 = (-b - sqrt(b**2 - 4*a*c))/(2*a)\n",
        "  return (x1,x2)\n",
        "\n",
        "(x1,x2) = getQuadraticSolution(2,1,2)\n",
        "print(\"The two solutions returned by getQuadraticSolution were x1 = {} and x2 = {}\".format(x1,x2))"
      ],
      "execution_count": null,
      "outputs": [
        {
          "output_type": "stream",
          "name": "stdout",
          "text": [
            "The two solutions returned by getQuadraticSolution were x1 = (-0.25+0.9682458365518543j) and x2 = (-0.25-0.9682458365518543j)\n"
          ]
        }
      ]
    },
    {
      "cell_type": "markdown",
      "metadata": {
        "id": "UDOJG4OdN9gV"
      },
      "source": [
        "*Test your knowledge:* See if you can use a function to redo the first problem without so much cutting and pasting. I'll get you started"
      ]
    },
    {
      "cell_type": "code",
      "metadata": {
        "id": "5ozi5KXPN6Om",
        "outputId": "888e3b06-76f7-48ef-d713-28c727adb982",
        "colab": {
          "base_uri": "https://localhost:8080/"
        }
      },
      "source": [
        "def ballHeightAndVelocity(h0,v0,g,t):\n",
        "  ## your code here\n",
        "  \n",
        "  h = h0+v0*t-1/2*g*t**2\n",
        "  v = v0-g*t\n",
        "  return (h,v)\n",
        "\n",
        "(h,v) = ballHeightAndVelocity(1.2,5.4,9.8,0.5)\n",
        "print(\"The height of the ball after 0.5s returned by ballHeightAndVelocity is h = {} meters and the velocity is v = {} m/s\".format(h,v))"
      ],
      "execution_count": null,
      "outputs": [
        {
          "output_type": "stream",
          "name": "stdout",
          "text": [
            "The height of the ball after 0.5s returned by ballHeightAndVelocity is h = 2.6750000000000003 meters and the velocity is v = 0.5 m/s\n"
          ]
        }
      ]
    }
  ]
}